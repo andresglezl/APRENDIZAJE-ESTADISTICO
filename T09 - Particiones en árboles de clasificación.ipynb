{
 "cells": [
  {
   "cell_type": "markdown",
   "id": "abc54a9c",
   "metadata": {},
   "source": [
    "### ERNESTO ANDRÉS GONZÁLEZ LOMELÍ\n",
    "\n",
    "### EXPEDIENTE : 746843"
   ]
  },
  {
   "cell_type": "markdown",
   "id": "f8167a96",
   "metadata": {},
   "source": [
    "## GINI\n",
    "\n",
    "El índice de Gini mide la impureza de una partición, es decir, qué tan mezcladas están las clases en un nodo.\n",
    "\n",
    "- Valor mínimo es 0: nodo puro (todos los datos son de la misma clase).\n",
    "- Valor máximo (hasta 0.5 o más dependiendo del número de clases), Lo que significa que es nodo completamente mezclado.\n",
    "\n",
    "**Conexión con las particiones:** Al construir un árbol de decisión, se busca dividir los datos minimizando la impureza. Es decir, la mejor división es aquella que reduce más el Gini total de los nodos hijos.\n",
    "\n"
   ]
  },
  {
   "cell_type": "markdown",
   "id": "128a6ba2",
   "metadata": {},
   "source": [
    "## Entropía\n",
    "\n",
    "La entropía mide el grado de desorden o aleatoriedad en un conjunto. Al igual que Gini, se usa para medir impureza, pero es más sensible a distribuciones de clases más balanceadas.\n",
    "\n",
    "**Conexión con las particiones:** Se utiliza para calcular  cuánta entropía se pierde (o se gana en pureza) al hacer una división."
   ]
  },
  {
   "cell_type": "markdown",
   "id": "81ffb3c1",
   "metadata": {},
   "source": [
    "## Log Loss\n",
    "\n",
    "Log Loss se usa típicamente en modelos probabilísticos de clasificación como la regresión logística. Penaliza más fuertemente las predicciones incorrectas con alta confianza.\n",
    "\n",
    "**Conexión con las particiones:** No se usa directamente en árboles como criterio de división, pero es útil para evaluar la calidad probabilística de un modelo. Algunos algoritmos como XGBoost o LightGBM pueden usar variantes de Log Loss para optimizar la clasificación."
   ]
  },
  {
   "cell_type": "markdown",
   "id": "97e3f33f",
   "metadata": {},
   "source": [
    "## Diferencia entre entropía y log loss\n",
    "\n",
    "- La entropía se usa en la división de árboles y el log loss en la evaluación de modelos\n",
    "- La entropía mide la impureza de un conjunto y el log loss la precesión de las probabilidades antes dichas\n",
    "- El tipo de predicción que tiene el log loss es la probabilidad para cada clase y la entropía la clase dominante\n",
    "- El log loss penaliza más fuerte los errores de alta confianza"
   ]
  },
  {
   "cell_type": "code",
   "execution_count": 1,
   "id": "73b960f8",
   "metadata": {},
   "outputs": [],
   "source": [
    "from sklearn.datasets import load_iris\n",
    "import pandas as pd\n",
    "import numpy as np"
   ]
  },
  {
   "cell_type": "code",
   "execution_count": 2,
   "id": "c3c2baa5",
   "metadata": {},
   "outputs": [
    {
     "data": {
      "text/html": [
       "<div>\n",
       "<style scoped>\n",
       "    .dataframe tbody tr th:only-of-type {\n",
       "        vertical-align: middle;\n",
       "    }\n",
       "\n",
       "    .dataframe tbody tr th {\n",
       "        vertical-align: top;\n",
       "    }\n",
       "\n",
       "    .dataframe thead th {\n",
       "        text-align: right;\n",
       "    }\n",
       "</style>\n",
       "<table border=\"1\" class=\"dataframe\">\n",
       "  <thead>\n",
       "    <tr style=\"text-align: right;\">\n",
       "      <th></th>\n",
       "      <th>sepal length (cm)</th>\n",
       "      <th>sepal width (cm)</th>\n",
       "      <th>petal length (cm)</th>\n",
       "      <th>petal width (cm)</th>\n",
       "      <th>target</th>\n",
       "    </tr>\n",
       "  </thead>\n",
       "  <tbody>\n",
       "    <tr>\n",
       "      <th>0</th>\n",
       "      <td>5.1</td>\n",
       "      <td>3.5</td>\n",
       "      <td>1.4</td>\n",
       "      <td>0.2</td>\n",
       "      <td>0</td>\n",
       "    </tr>\n",
       "    <tr>\n",
       "      <th>1</th>\n",
       "      <td>4.9</td>\n",
       "      <td>3.0</td>\n",
       "      <td>1.4</td>\n",
       "      <td>0.2</td>\n",
       "      <td>0</td>\n",
       "    </tr>\n",
       "    <tr>\n",
       "      <th>2</th>\n",
       "      <td>4.7</td>\n",
       "      <td>3.2</td>\n",
       "      <td>1.3</td>\n",
       "      <td>0.2</td>\n",
       "      <td>0</td>\n",
       "    </tr>\n",
       "    <tr>\n",
       "      <th>3</th>\n",
       "      <td>4.6</td>\n",
       "      <td>3.1</td>\n",
       "      <td>1.5</td>\n",
       "      <td>0.2</td>\n",
       "      <td>0</td>\n",
       "    </tr>\n",
       "    <tr>\n",
       "      <th>4</th>\n",
       "      <td>5.0</td>\n",
       "      <td>3.6</td>\n",
       "      <td>1.4</td>\n",
       "      <td>0.2</td>\n",
       "      <td>0</td>\n",
       "    </tr>\n",
       "  </tbody>\n",
       "</table>\n",
       "</div>"
      ],
      "text/plain": [
       "   sepal length (cm)  sepal width (cm)  petal length (cm)  petal width (cm)  \\\n",
       "0                5.1               3.5                1.4               0.2   \n",
       "1                4.9               3.0                1.4               0.2   \n",
       "2                4.7               3.2                1.3               0.2   \n",
       "3                4.6               3.1                1.5               0.2   \n",
       "4                5.0               3.6                1.4               0.2   \n",
       "\n",
       "   target  \n",
       "0       0  \n",
       "1       0  \n",
       "2       0  \n",
       "3       0  \n",
       "4       0  "
      ]
     },
     "execution_count": 2,
     "metadata": {},
     "output_type": "execute_result"
    }
   ],
   "source": [
    "iris = load_iris(as_frame=True)\n",
    "data = iris.frame\n",
    "data['target'] = data['target'].astype(int)  \n",
    "data.head()"
   ]
  },
  {
   "cell_type": "code",
   "execution_count": 3,
   "id": "c3a7e44c",
   "metadata": {},
   "outputs": [],
   "source": [
    "condicion = data['petal length (cm)'] < 2.5\n",
    "grupo_izquierda = data[condicion]\n",
    "grupo_derecha = data[~condicion]"
   ]
  },
  {
   "cell_type": "code",
   "execution_count": 4,
   "id": "c1185750",
   "metadata": {},
   "outputs": [
    {
     "name": "stdout",
     "output_type": "stream",
     "text": [
      "Grupo izquierda: 50\n",
      "Grupo derecha: 100\n"
     ]
    }
   ],
   "source": [
    "print(f\"Grupo izquierda: {len(grupo_izquierda)}\")\n",
    "print(f\"Grupo derecha: {len(grupo_derecha)}\")"
   ]
  },
  {
   "cell_type": "code",
   "execution_count": 5,
   "id": "86421dfa",
   "metadata": {},
   "outputs": [],
   "source": [
    "#GINI\n",
    "def gini_impureza(y):\n",
    "    clases, counts = np.unique(y, return_counts=True)\n",
    "    p = counts / counts.sum()\n",
    "    return 1 - np.sum(p ** 2)\n"
   ]
  },
  {
   "cell_type": "code",
   "execution_count": 6,
   "id": "c04b8368",
   "metadata": {},
   "outputs": [],
   "source": [
    "gini_izquierda = gini_impureza(grupo_izquierda['target'])\n",
    "gini_derecha = gini_impureza(grupo_derecha['target'])"
   ]
  },
  {
   "cell_type": "code",
   "execution_count": 7,
   "id": "31bba4a6",
   "metadata": {},
   "outputs": [
    {
     "name": "stdout",
     "output_type": "stream",
     "text": [
      "GINI izquierda: 0.0000\n",
      "GINI derecha: 0.5000\n",
      "GINI ponderado total: 0.3333\n"
     ]
    }
   ],
   "source": [
    "total = len(data)\n",
    "gini_total = (len(grupo_izquierda) / total) * gini_izquierda + \\\n",
    "             (len(grupo_derecha) / total) * gini_derecha\n",
    "\n",
    "print(f\"GINI izquierda: {gini_izquierda:.4f}\")\n",
    "print(f\"GINI derecha: {gini_derecha:.4f}\")\n",
    "print(f\"GINI ponderado total: {gini_total:.4f}\")"
   ]
  },
  {
   "cell_type": "code",
   "execution_count": 8,
   "id": "22a2aa5b",
   "metadata": {},
   "outputs": [],
   "source": [
    "#Entropía\n",
    "def entropia(y):\n",
    "    clases, counts = np.unique(y, return_counts=True)\n",
    "    p = counts / counts.sum()\n",
    "    return -np.sum(p * np.log2(p))\n"
   ]
  },
  {
   "cell_type": "code",
   "execution_count": 9,
   "id": "3aabe3c2",
   "metadata": {},
   "outputs": [],
   "source": [
    "entropia_izquierda = entropia(grupo_izquierda['target'])\n",
    "entropia_derecha = entropia(grupo_derecha['target'])"
   ]
  },
  {
   "cell_type": "code",
   "execution_count": 10,
   "id": "ac5ed459",
   "metadata": {},
   "outputs": [
    {
     "name": "stdout",
     "output_type": "stream",
     "text": [
      "Entropía izquierda: -0.0000\n",
      "Entropía derecha: 1.0000\n",
      "Entropía ponderada total: 0.6667\n"
     ]
    }
   ],
   "source": [
    "entropia_total = (len(grupo_izquierda) / total) * entropia_izquierda + \\\n",
    "                 (len(grupo_derecha) / total) * entropia_derecha\n",
    "\n",
    "print(f\"Entropía izquierda: {entropia_izquierda:.4f}\")\n",
    "print(f\"Entropía derecha: {entropia_derecha:.4f}\")\n",
    "print(f\"Entropía ponderada total: {entropia_total:.4f}\")"
   ]
  },
  {
   "cell_type": "code",
   "execution_count": 11,
   "id": "480e58f3",
   "metadata": {},
   "outputs": [],
   "source": [
    "from sklearn.metrics import log_loss\n",
    "\n",
    "clases = np.unique(data['target'])\n",
    "\n",
    "def log_loss_simplificado(grupo):\n",
    "    y_true = grupo['target'].values\n",
    "    \n",
    "    p_clases = np.bincount(y_true, minlength=3) / len(y_true)\n",
    "\n",
    "    y_proba = np.tile(p_clases, (len(y_true), 1))\n",
    "    return log_loss(y_true, y_proba, labels=clases)\n"
   ]
  },
  {
   "cell_type": "code",
   "execution_count": 12,
   "id": "10c5ebbd",
   "metadata": {},
   "outputs": [
    {
     "name": "stdout",
     "output_type": "stream",
     "text": [
      "Log Loss izquierda: 0.0000\n",
      "Log Loss derecha: 0.6931\n",
      "Log Loss ponderado total: 0.4621\n"
     ]
    }
   ],
   "source": [
    "ll_izq = log_loss_simplificado(grupo_izquierda)\n",
    "ll_der = log_loss_simplificado(grupo_derecha)\n",
    "ll_total = (len(grupo_izquierda) * ll_izq + len(grupo_derecha) * ll_der) / len(data)\n",
    "\n",
    "print(f\"Log Loss izquierda: {ll_izq:.4f}\")\n",
    "print(f\"Log Loss derecha: {ll_der:.4f}\")\n",
    "print(f\"Log Loss ponderado total: {ll_total:.4f}\")"
   ]
  },
  {
   "cell_type": "markdown",
   "id": "562cf9b4",
   "metadata": {},
   "source": [
    "#### **CONCLUSIONES**"
   ]
  },
  {
   "cell_type": "markdown",
   "id": "8a3e9438",
   "metadata": {},
   "source": [
    "1. GINI:\n",
    "\n",
    "- El grupo izquierdo tiene GINI = 0.0000, lo que indica que es completamente puro (solo una clase).\n",
    "- El grupo derecho tiene GINI = 0.5000, lo que indica mezcla de clases.\n",
    "- El GINI total ponderado fue 0.3333, reflejando que la división logró cierta mejora en pureza\n",
    "\n",
    "2. Entropía:\n",
    "\n",
    "- La entropía del grupo izquierdo fue prácticamente 0 (puro)\n",
    "- La del grupo derecho fue 1.0000, indicando máxima impureza\n",
    "- La entropía ponderada total fue 0.6667, mayor que el GINI, ya que la entropía es más sensible a clases balanceadas.\n",
    "\n",
    "3. Log Loss:\n",
    "\n",
    "- El grupo izquierdo tuvo Log Loss = 0.0000 (perfecta predicción)\n",
    "- El grupo derecho tuvo Log Loss = 0.6931, valor típico cuando hay incertidumbre entre dos clases.\n",
    "- El Log Loss total ponderado fue 0.4621, lo que nos indica una pérdida media en la calidad de predicción "
   ]
  },
  {
   "cell_type": "markdown",
   "id": "64660c50",
   "metadata": {},
   "source": [
    "### **Observación**\n",
    "\n",
    "Escogí la partición petal length < 2.5 porque permite separar perfectamente la clase Setosa del resto, generando un grupo completamente puro. Esto facilita el análisis de los criterios GINI, Entropía y Log Loss, ya que se puede observar claramente cómo reaccionan ante un grupo puro versus uno mixto."
   ]
  }
 ],
 "metadata": {
  "kernelspec": {
   "display_name": "base",
   "language": "python",
   "name": "python3"
  },
  "language_info": {
   "codemirror_mode": {
    "name": "ipython",
    "version": 3
   },
   "file_extension": ".py",
   "mimetype": "text/x-python",
   "name": "python",
   "nbconvert_exporter": "python",
   "pygments_lexer": "ipython3",
   "version": "3.12.4"
  }
 },
 "nbformat": 4,
 "nbformat_minor": 5
}
